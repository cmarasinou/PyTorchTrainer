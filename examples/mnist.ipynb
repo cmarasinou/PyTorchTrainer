{
 "cells": [
  {
   "cell_type": "markdown",
   "metadata": {},
   "source": [
    "# Multi-class classification on MNIST dataset"
   ]
  },
  {
   "cell_type": "code",
   "execution_count": 1,
   "metadata": {},
   "outputs": [],
   "source": [
    "from torchvision.datasets import MNIST\n",
    "from torch.utils.data import DataLoader\n",
    "import torch.nn.functional as F\n",
    "from torchvision import transforms as T\n",
    "from torch import nn\n",
    "from torchvision import models\n",
    "from torch import optim\n",
    "\n",
    "import snippet\n",
    "from PyTorchTrainer.train import Phase, RollingLoss, train\n",
    "from PyTorchTrainer.callback import CallbacksGroup\n",
    "from PyTorchTrainer.scheduler import Scheduler, OneCycleSchedule\n",
    "from PyTorchTrainer.logging import TensorBoardLogger, StreamLogger, ProgressBar\n",
    "from PyTorchTrainer.metric import Accuracy\n",
    "\n",
    "import pandas as pd\n",
    "import matplotlib.pyplot as plt"
   ]
  },
  {
   "cell_type": "code",
   "execution_count": 2,
   "metadata": {},
   "outputs": [],
   "source": [
    "batch_size = 1024\n",
    "n_epochs = 3\n",
    "mnist_stats = ((0.15,), (0.15,))"
   ]
  },
  {
   "cell_type": "markdown",
   "metadata": {},
   "source": [
    "## 1. Loading Data"
   ]
  },
  {
   "cell_type": "code",
   "execution_count": 3,
   "metadata": {},
   "outputs": [],
   "source": [
    "train_ds = MNIST(\n",
    "    root = './data/',\n",
    "    train=True, \n",
    "    download=True,\n",
    "    transform=T.Compose([\n",
    "        T.RandomAffine(5, translate=(0.05, 0.05), scale=(0.9, 1.1)),\n",
    "        T.ToTensor(),\n",
    "        T.Normalize(*mnist_stats)\n",
    "    ])\n",
    ")\n",
    "\n",
    "val_ds = MNIST(\n",
    "    root = './data/',\n",
    "    train=False, \n",
    "    transform=T.Compose([\n",
    "        T.ToTensor(),\n",
    "        T.Normalize(*mnist_stats)\n",
    "    ])\n",
    ")\n",
    "\n",
    "train_dl = DataLoader(train_ds, \n",
    "                      batch_size=batch_size,\n",
    "                      shuffle=True, \n",
    "                      num_workers=4)\n",
    "val_dl = DataLoader(val_ds, \n",
    "                      batch_size=batch_size,\n",
    "                      shuffle=True, \n",
    "                      num_workers=4)"
   ]
  },
  {
   "cell_type": "markdown",
   "metadata": {},
   "source": [
    "## 2. Neural Network"
   ]
  },
  {
   "cell_type": "code",
   "execution_count": 4,
   "metadata": {},
   "outputs": [],
   "source": [
    "class Net(nn.Module):\n",
    "    \n",
    "    def __init__(self):\n",
    "        super(Net, self).__init__()\n",
    "        self.conv1 = nn.Conv2d(1, 10, kernel_size=5)\n",
    "        self.conv2 = nn.Conv2d(10, 20, kernel_size=5)\n",
    "        self.conv2_drop = nn.Dropout2d()\n",
    "        self.fc1 = nn.Linear(320, 50)\n",
    "        self.fc2 = nn.Linear(50, 10)\n",
    "\n",
    "    def forward(self, x):\n",
    "        x = F.relu(F.max_pool2d(self.conv1(x), 2))\n",
    "        x = F.relu(F.max_pool2d(self.conv2_drop(self.conv2(x)), 2))\n",
    "        x = x.view(-1, 320)\n",
    "        x = F.relu(self.fc1(x))\n",
    "        x = F.dropout(x, training=self.training)\n",
    "        x = self.fc2(x)\n",
    "        return F.log_softmax(x, dim=-1)"
   ]
  },
  {
   "cell_type": "markdown",
   "metadata": {},
   "source": [
    "## 3. Training"
   ]
  },
  {
   "cell_type": "code",
   "execution_count": 5,
   "metadata": {},
   "outputs": [
    {
     "data": {
      "application/vnd.jupyter.widget-view+json": {
       "model_id": "ea58fe689b0c496ca5dc3db7a8c0f344",
       "version_major": 2,
       "version_minor": 0
      },
      "text/plain": [
       "HBox(children=(IntProgress(value=0, description='train', max=59, style=ProgressStyle(description_width='initia…"
      ]
     },
     "metadata": {},
     "output_type": "display_data"
    },
    {
     "data": {
      "application/vnd.jupyter.widget-view+json": {
       "model_id": "286ce14f2ca54bb4b092e545b806f166",
       "version_major": 2,
       "version_minor": 0
      },
      "text/plain": [
       "HBox(children=(IntProgress(value=0, description='valid', max=10, style=ProgressStyle(description_width='initia…"
      ]
     },
     "metadata": {},
     "output_type": "display_data"
    },
    {
     "name": "stdout",
     "output_type": "stream",
     "text": [
      "Epoch:    1 | train_loss=0.9404, train_accuracy=0.6204, valid_loss=0.1229, valid_accuracy=0.9641\n",
      "Epoch:    2 | train_loss=0.5452, train_accuracy=0.8649, valid_loss=0.1005, valid_accuracy=0.9751\n",
      "Epoch:    3 | train_loss=0.3955, train_accuracy=0.8977, valid_loss=0.0890, valid_accuracy=0.9773\n"
     ]
    }
   ],
   "source": [
    "model = Net()\n",
    "phases = [\n",
    "    Phase('train', train_dl),\n",
    "    Phase('valid', val_dl, grad=False)\n",
    "]\n",
    "opt = optim.Adam(model.parameters(), lr=1e-2)\n",
    "cb = CallbacksGroup([\n",
    "  RollingLoss(),\n",
    "  Accuracy(),\n",
    "  Scheduler(\n",
    "        OneCycleSchedule(t=len(phases[0].loader) * n_epochs),\n",
    "        mode='batch'\n",
    "    ),\n",
    "  TensorBoardLogger('./runs/', 'test-classification'),\n",
    "  StreamLogger(),\n",
    "  ProgressBar()\n",
    "])\n",
    "loss = nn.CrossEntropyLoss()\n",
    "train(model, opt, phases, cb, epochs=n_epochs, loss_fn=loss)"
   ]
  },
  {
   "cell_type": "code",
   "execution_count": 6,
   "metadata": {},
   "outputs": [
    {
     "data": {
      "image/png": "[encoded data removed]",
      "text/plain": [
       "<matplotlib.figure.Figure at 0x7f1bbdae7a20>"
      ]
     },
     "metadata": {
      "needs_background": "light"
     },
     "output_type": "display_data"
    }
   ],
   "source": [
    "lr_history = pd.DataFrame(cb['scheduler'].parameter_history('lr'))\n",
    "ax = lr_history.plot(figsize=(8, 6))\n",
    "ax.set_xlabel('Training Batch Index')\n",
    "ax.set_ylabel('Learning Rate')\n",
    "plt.show()"
   ]
  },
  {
   "cell_type": "code",
   "execution_count": 7,
   "metadata": {},
   "outputs": [
    {
     "data": {
      "image/png": "[encoded data removed]",
      "text/plain": [
       "<matplotlib.figure.Figure at 0x7f1bb9a7ca20>"
      ]
     },
     "metadata": {
      "needs_background": "light"
     },
     "output_type": "display_data"
    }
   ],
   "source": [
    "loss_history = pd.DataFrame(phases[0].losses)\n",
    "ax = loss_history.plot(figsize=(8, 6))\n",
    "ax.set_xlabel('Training Batch Index')\n",
    "ax.set_ylabel('Training Loss')\n",
    "plt.show()"
   ]
  },
  {
   "cell_type": "code",
   "execution_count": null,
   "metadata": {},
   "outputs": [],
   "source": []
  }
 ],
 "metadata": {
  "kernelspec": {
   "display_name": "jupyter3_Python_3",
   "language": "python",
   "name": "jupyter3_python_3"
  },
  "language_info": {
   "codemirror_mode": {
    "name": "ipython",
    "version": 3
   },
   "file_extension": ".py",
   "mimetype": "text/x-python",
   "name": "python",
   "nbconvert_exporter": "python",
   "pygments_lexer": "ipython3",
   "version": "3.6.5"
  }
 },
 "nbformat": 4,
 "nbformat_minor": 2
}
